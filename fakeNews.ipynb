{
 "cells": [
  {
   "cell_type": "markdown",
   "id": "muslim-forestry",
   "metadata": {},
   "source": [
    "# Load dataset"
   ]
  },
  {
   "cell_type": "code",
   "execution_count": 9,
   "id": "collected-spanking",
   "metadata": {},
   "outputs": [
    {
     "data": {
      "text/html": [
       "<div>\n",
       "<style scoped>\n",
       "    .dataframe tbody tr th:only-of-type {\n",
       "        vertical-align: middle;\n",
       "    }\n",
       "\n",
       "    .dataframe tbody tr th {\n",
       "        vertical-align: top;\n",
       "    }\n",
       "\n",
       "    .dataframe thead th {\n",
       "        text-align: right;\n",
       "    }\n",
       "</style>\n",
       "<table border=\"1\" class=\"dataframe\">\n",
       "  <thead>\n",
       "    <tr style=\"text-align: right;\">\n",
       "      <th></th>\n",
       "      <th>Unnamed: 0</th>\n",
       "      <th>url</th>\n",
       "      <th>title</th>\n",
       "      <th>article</th>\n",
       "      <th>news</th>\n",
       "    </tr>\n",
       "  </thead>\n",
       "  <tbody>\n",
       "    <tr>\n",
       "      <th>0</th>\n",
       "      <td>0</td>\n",
       "      <td>https://www.hespress.com/%d8%a7%d9%84%d8%b9%d8...</td>\n",
       "      <td>العثماني ينتشي بـ\"تحكم نسبي\" في الجائحة ويعد ب...</td>\n",
       "      <td>سجل رئيس الحكومة بارتياح، “التقدم الجيد” الذي...</td>\n",
       "      <td>real</td>\n",
       "    </tr>\n",
       "    <tr>\n",
       "      <th>1</th>\n",
       "      <td>1</td>\n",
       "      <td>https://www.hespress.com/%d8%a7%d9%84%d8%ad%d9...</td>\n",
       "      <td>الحكومة المغربية تقرر تمديد حالة الطوارىء الصح...</td>\n",
       "      <td>قرر مجلس الحكومة، المنعقد اليوم الخميس في الر...</td>\n",
       "      <td>real</td>\n",
       "    </tr>\n",
       "    <tr>\n",
       "      <th>2</th>\n",
       "      <td>2</td>\n",
       "      <td>https://www.hespress.com/%d8%a8%d9%88%d8%b1%d9...</td>\n",
       "      <td>بوريطة: \"الجيل الجديد\" يضمن الوحدة الإفريقية</td>\n",
       "      <td>قال ناصر بوريطة، وزير الشؤون الخارجية والتعاو...</td>\n",
       "      <td>real</td>\n",
       "    </tr>\n",
       "    <tr>\n",
       "      <th>3</th>\n",
       "      <td>3</td>\n",
       "      <td>https://www.hespress.com/%d8%aa%d8%b1%d8%b4%d9...</td>\n",
       "      <td>ترشيح \"الأعيان والكفاءات\" يخلق صراعا بين أجنحة...</td>\n",
       "      <td>يعيش حزب الأصالة والمعاصرة (البام) على وقع صر...</td>\n",
       "      <td>real</td>\n",
       "    </tr>\n",
       "    <tr>\n",
       "      <th>4</th>\n",
       "      <td>4</td>\n",
       "      <td>https://www.hespress.com/%d8%a7%d9%84%d9%83%d8...</td>\n",
       "      <td>\"الكتاب\" يجمد عضوية رئيس مجلس الصخيرات</td>\n",
       "      <td>أعلن المكتب السياسي لحزب التقدم والاشتراكية، ...</td>\n",
       "      <td>real</td>\n",
       "    </tr>\n",
       "  </tbody>\n",
       "</table>\n",
       "</div>"
      ],
      "text/plain": [
       "   Unnamed: 0                                                url  \\\n",
       "0           0  https://www.hespress.com/%d8%a7%d9%84%d8%b9%d8...   \n",
       "1           1  https://www.hespress.com/%d8%a7%d9%84%d8%ad%d9...   \n",
       "2           2  https://www.hespress.com/%d8%a8%d9%88%d8%b1%d9...   \n",
       "3           3  https://www.hespress.com/%d8%aa%d8%b1%d8%b4%d9...   \n",
       "4           4  https://www.hespress.com/%d8%a7%d9%84%d9%83%d8...   \n",
       "\n",
       "                                               title  \\\n",
       "0  العثماني ينتشي بـ\"تحكم نسبي\" في الجائحة ويعد ب...   \n",
       "1  الحكومة المغربية تقرر تمديد حالة الطوارىء الصح...   \n",
       "2       بوريطة: \"الجيل الجديد\" يضمن الوحدة الإفريقية   \n",
       "3  ترشيح \"الأعيان والكفاءات\" يخلق صراعا بين أجنحة...   \n",
       "4             \"الكتاب\" يجمد عضوية رئيس مجلس الصخيرات   \n",
       "\n",
       "                                             article  news  \n",
       "0   سجل رئيس الحكومة بارتياح، “التقدم الجيد” الذي...  real  \n",
       "1   قرر مجلس الحكومة، المنعقد اليوم الخميس في الر...  real  \n",
       "2   قال ناصر بوريطة، وزير الشؤون الخارجية والتعاو...  real  \n",
       "3   يعيش حزب الأصالة والمعاصرة (البام) على وقع صر...  real  \n",
       "4   أعلن المكتب السياسي لحزب التقدم والاشتراكية، ...  real  "
      ]
     },
     "execution_count": 9,
     "metadata": {},
     "output_type": "execute_result"
    }
   ],
   "source": [
    "import pandas as pd\n",
    "import pymongo\n",
    "from pymongo import MongoClient\n",
    "\n",
    "cluster = MongoClient(\"mongodb://localhost:27017/?readPreference=primary&appname=MongoDB%20Compass%20Community&ssl=false\")\n",
    "db = cluster[\"NLP\"]\n",
    "hespress_ds = db.hespress_politique\n",
    "hespress_ds['title'].replace(r'\\s+|\\\\n', ' ', regex=True, inplace=True) \n",
    "hespress_ds['article'].replace(r'\\s+|\\\\n', ' ', regex=True, inplace=True) \n",
    "hespress_ds.head()"
   ]
  },
  {
   "cell_type": "code",
   "execution_count": 12,
   "id": "minus-priest",
   "metadata": {},
   "outputs": [
    {
     "name": "stdout",
     "output_type": "stream",
     "text": [
      "<class 'pandas.core.frame.DataFrame'>\n",
      "RangeIndex: 1032 entries, 0 to 1031\n",
      "Data columns (total 5 columns):\n",
      " #   Column      Non-Null Count  Dtype \n",
      "---  ------      --------------  ----- \n",
      " 0   Unnamed: 0  1032 non-null   int64 \n",
      " 1   url         1032 non-null   object\n",
      " 2   title       1032 non-null   object\n",
      " 3   article     1032 non-null   object\n",
      " 4   news        1032 non-null   object\n",
      "dtypes: int64(1), object(4)\n",
      "memory usage: 40.4+ KB\n"
     ]
    }
   ],
   "source": [
    "hespress_ds.info()"
   ]
  },
  {
   "cell_type": "code",
   "execution_count": 10,
   "id": "imported-algeria",
   "metadata": {},
   "outputs": [
    {
     "data": {
      "text/html": [
       "<div>\n",
       "<style scoped>\n",
       "    .dataframe tbody tr th:only-of-type {\n",
       "        vertical-align: middle;\n",
       "    }\n",
       "\n",
       "    .dataframe tbody tr th {\n",
       "        vertical-align: top;\n",
       "    }\n",
       "\n",
       "    .dataframe thead th {\n",
       "        text-align: right;\n",
       "    }\n",
       "</style>\n",
       "<table border=\"1\" class=\"dataframe\">\n",
       "  <thead>\n",
       "    <tr style=\"text-align: right;\">\n",
       "      <th></th>\n",
       "      <th>Unnamed: 0</th>\n",
       "      <th>url</th>\n",
       "      <th>title</th>\n",
       "      <th>article</th>\n",
       "      <th>news</th>\n",
       "    </tr>\n",
       "  </thead>\n",
       "  <tbody>\n",
       "    <tr>\n",
       "      <th>0</th>\n",
       "      <td>0</td>\n",
       "      <td>https://alhudood.net/42493/</td>\n",
       "      <td>النظام السوري يؤكد التزامه بمفاوضات صياغة الد...</td>\n",
       "      <td>أكّد النظام السوري التزامه التام بمفاوضات صيا...</td>\n",
       "      <td>fake</td>\n",
       "    </tr>\n",
       "    <tr>\n",
       "      <th>1</th>\n",
       "      <td>1</td>\n",
       "      <td>https://alhudood.net/42452/</td>\n",
       "      <td>تونس: الحكم ٣٠ عاماً على شباب دخّنوا الحشيش ف...</td>\n",
       "      <td>أصدرت المحكمة الابتدائية في الكاف بتونس، حكما...</td>\n",
       "      <td>fake</td>\n",
       "    </tr>\n",
       "    <tr>\n",
       "      <th>2</th>\n",
       "      <td>2</td>\n",
       "      <td>https://alhudood.net/42437/</td>\n",
       "      <td>إسرائيل تعتقل مجموعة من فلسطينيي الداخل بتهمة...</td>\n",
       "      <td>شنّت المخابرات الإسرائيلية حملة اعتقالات واسع...</td>\n",
       "      <td>fake</td>\n",
       "    </tr>\n",
       "    <tr>\n",
       "      <th>3</th>\n",
       "      <td>3</td>\n",
       "      <td>https://alhudood.net/42434/</td>\n",
       "      <td>أهالي طرابلس يشعلون البلدية بدل أن يلعنوا الظ...</td>\n",
       "      <td>بعد أعوام طويلة تحملوا خلالها البطالة ورداءة ...</td>\n",
       "      <td>fake</td>\n",
       "    </tr>\n",
       "    <tr>\n",
       "      <th>4</th>\n",
       "      <td>4</td>\n",
       "      <td>https://alhudood.net/42431/</td>\n",
       "      <td>فرح إسلامي عارم بانقلاب جيش ميانمار الذي يبيد...</td>\n",
       "      <td>عمّت البهجة ربوع العالم الإسلامي وأوساط المفك...</td>\n",
       "      <td>fake</td>\n",
       "    </tr>\n",
       "  </tbody>\n",
       "</table>\n",
       "</div>"
      ],
      "text/plain": [
       "   Unnamed: 0                          url  \\\n",
       "0           0  https://alhudood.net/42493/   \n",
       "1           1  https://alhudood.net/42452/   \n",
       "2           2  https://alhudood.net/42437/   \n",
       "3           3  https://alhudood.net/42434/   \n",
       "4           4  https://alhudood.net/42431/   \n",
       "\n",
       "                                               title  \\\n",
       "0   النظام السوري يؤكد التزامه بمفاوضات صياغة الد...   \n",
       "1   تونس: الحكم ٣٠ عاماً على شباب دخّنوا الحشيش ف...   \n",
       "2   إسرائيل تعتقل مجموعة من فلسطينيي الداخل بتهمة...   \n",
       "3   أهالي طرابلس يشعلون البلدية بدل أن يلعنوا الظ...   \n",
       "4   فرح إسلامي عارم بانقلاب جيش ميانمار الذي يبيد...   \n",
       "\n",
       "                                             article  news  \n",
       "0   أكّد النظام السوري التزامه التام بمفاوضات صيا...  fake  \n",
       "1   أصدرت المحكمة الابتدائية في الكاف بتونس، حكما...  fake  \n",
       "2   شنّت المخابرات الإسرائيلية حملة اعتقالات واسع...  fake  \n",
       "3   بعد أعوام طويلة تحملوا خلالها البطالة ورداءة ...  fake  \n",
       "4   عمّت البهجة ربوع العالم الإسلامي وأوساط المفك...  fake  "
      ]
     },
     "execution_count": 10,
     "metadata": {},
     "output_type": "execute_result"
    }
   ],
   "source": [
    "alhoudod_ds = db.alhoudod_politique\n",
    "alhoudod_ds['title'].replace(r'\\s+|\\\\n', ' ', regex=True, inplace=True)\n",
    "alhoudod_ds['article'].replace(r'\\s+|\\\\n', ' ', regex=True, inplace=True) \n",
    "alhoudod_ds.head()"
   ]
  },
  {
   "cell_type": "code",
   "execution_count": 13,
   "id": "transsexual-dynamics",
   "metadata": {},
   "outputs": [
    {
     "name": "stdout",
     "output_type": "stream",
     "text": [
      "<class 'pandas.core.frame.DataFrame'>\n",
      "RangeIndex: 1007 entries, 0 to 1006\n",
      "Data columns (total 5 columns):\n",
      " #   Column      Non-Null Count  Dtype \n",
      "---  ------      --------------  ----- \n",
      " 0   Unnamed: 0  1007 non-null   int64 \n",
      " 1   url         1007 non-null   object\n",
      " 2   title       1007 non-null   object\n",
      " 3   article     1007 non-null   object\n",
      " 4   news        1007 non-null   object\n",
      "dtypes: int64(1), object(4)\n",
      "memory usage: 39.5+ KB\n"
     ]
    }
   ],
   "source": [
    "alhoudod_ds.info()"
   ]
  },
  {
   "cell_type": "code",
   "execution_count": 14,
   "id": "continuing-webmaster",
   "metadata": {},
   "outputs": [
    {
     "data": {
      "text/html": [
       "<div>\n",
       "<style scoped>\n",
       "    .dataframe tbody tr th:only-of-type {\n",
       "        vertical-align: middle;\n",
       "    }\n",
       "\n",
       "    .dataframe tbody tr th {\n",
       "        vertical-align: top;\n",
       "    }\n",
       "\n",
       "    .dataframe thead th {\n",
       "        text-align: right;\n",
       "    }\n",
       "</style>\n",
       "<table border=\"1\" class=\"dataframe\">\n",
       "  <thead>\n",
       "    <tr style=\"text-align: right;\">\n",
       "      <th></th>\n",
       "      <th>Unnamed: 0</th>\n",
       "      <th>url</th>\n",
       "      <th>title</th>\n",
       "      <th>article</th>\n",
       "      <th>news</th>\n",
       "    </tr>\n",
       "  </thead>\n",
       "  <tbody>\n",
       "    <tr>\n",
       "      <th>0</th>\n",
       "      <td>0</td>\n",
       "      <td>https://www.hespress.com/%d8%a7%d9%84%d8%b9%d8...</td>\n",
       "      <td>العثماني ينتشي بـ\"تحكم نسبي\" في الجائحة ويعد ب...</td>\n",
       "      <td>سجل رئيس الحكومة بارتياح، “التقدم الجيد” الذي...</td>\n",
       "      <td>real</td>\n",
       "    </tr>\n",
       "    <tr>\n",
       "      <th>1</th>\n",
       "      <td>1</td>\n",
       "      <td>https://www.hespress.com/%d8%a7%d9%84%d8%ad%d9...</td>\n",
       "      <td>الحكومة المغربية تقرر تمديد حالة الطوارىء الصح...</td>\n",
       "      <td>قرر مجلس الحكومة، المنعقد اليوم الخميس في الر...</td>\n",
       "      <td>real</td>\n",
       "    </tr>\n",
       "    <tr>\n",
       "      <th>2</th>\n",
       "      <td>2</td>\n",
       "      <td>https://www.hespress.com/%d8%a8%d9%88%d8%b1%d9...</td>\n",
       "      <td>بوريطة: \"الجيل الجديد\" يضمن الوحدة الإفريقية</td>\n",
       "      <td>قال ناصر بوريطة، وزير الشؤون الخارجية والتعاو...</td>\n",
       "      <td>real</td>\n",
       "    </tr>\n",
       "    <tr>\n",
       "      <th>3</th>\n",
       "      <td>3</td>\n",
       "      <td>https://www.hespress.com/%d8%aa%d8%b1%d8%b4%d9...</td>\n",
       "      <td>ترشيح \"الأعيان والكفاءات\" يخلق صراعا بين أجنحة...</td>\n",
       "      <td>يعيش حزب الأصالة والمعاصرة (البام) على وقع صر...</td>\n",
       "      <td>real</td>\n",
       "    </tr>\n",
       "    <tr>\n",
       "      <th>4</th>\n",
       "      <td>4</td>\n",
       "      <td>https://www.hespress.com/%d8%a7%d9%84%d9%83%d8...</td>\n",
       "      <td>\"الكتاب\" يجمد عضوية رئيس مجلس الصخيرات</td>\n",
       "      <td>أعلن المكتب السياسي لحزب التقدم والاشتراكية، ...</td>\n",
       "      <td>real</td>\n",
       "    </tr>\n",
       "  </tbody>\n",
       "</table>\n",
       "</div>"
      ],
      "text/plain": [
       "   Unnamed: 0                                                url  \\\n",
       "0           0  https://www.hespress.com/%d8%a7%d9%84%d8%b9%d8...   \n",
       "1           1  https://www.hespress.com/%d8%a7%d9%84%d8%ad%d9...   \n",
       "2           2  https://www.hespress.com/%d8%a8%d9%88%d8%b1%d9...   \n",
       "3           3  https://www.hespress.com/%d8%aa%d8%b1%d8%b4%d9...   \n",
       "4           4  https://www.hespress.com/%d8%a7%d9%84%d9%83%d8...   \n",
       "\n",
       "                                               title  \\\n",
       "0  العثماني ينتشي بـ\"تحكم نسبي\" في الجائحة ويعد ب...   \n",
       "1  الحكومة المغربية تقرر تمديد حالة الطوارىء الصح...   \n",
       "2       بوريطة: \"الجيل الجديد\" يضمن الوحدة الإفريقية   \n",
       "3  ترشيح \"الأعيان والكفاءات\" يخلق صراعا بين أجنحة...   \n",
       "4             \"الكتاب\" يجمد عضوية رئيس مجلس الصخيرات   \n",
       "\n",
       "                                             article  news  \n",
       "0   سجل رئيس الحكومة بارتياح، “التقدم الجيد” الذي...  real  \n",
       "1   قرر مجلس الحكومة، المنعقد اليوم الخميس في الر...  real  \n",
       "2   قال ناصر بوريطة، وزير الشؤون الخارجية والتعاو...  real  \n",
       "3   يعيش حزب الأصالة والمعاصرة (البام) على وقع صر...  real  \n",
       "4   أعلن المكتب السياسي لحزب التقدم والاشتراكية، ...  real  "
      ]
     },
     "execution_count": 14,
     "metadata": {},
     "output_type": "execute_result"
    }
   ],
   "source": [
    "dataset = pd.concat([hespress_ds,alhoudod_ds])\n",
    "dataset.head()"
   ]
  },
  {
   "cell_type": "code",
   "execution_count": 16,
   "id": "royal-cambridge",
   "metadata": {},
   "outputs": [
    {
     "name": "stdout",
     "output_type": "stream",
     "text": [
      "<class 'pandas.core.frame.DataFrame'>\n",
      "Int64Index: 2039 entries, 0 to 1006\n",
      "Data columns (total 5 columns):\n",
      " #   Column      Non-Null Count  Dtype \n",
      "---  ------      --------------  ----- \n",
      " 0   Unnamed: 0  2039 non-null   int64 \n",
      " 1   url         2039 non-null   object\n",
      " 2   title       2039 non-null   object\n",
      " 3   article     2039 non-null   object\n",
      " 4   news        2039 non-null   object\n",
      "dtypes: int64(1), object(4)\n",
      "memory usage: 95.6+ KB\n"
     ]
    }
   ],
   "source": [
    "dataset.info()"
   ]
  },
  {
   "cell_type": "code",
   "execution_count": 15,
   "id": "varied-anchor",
   "metadata": {},
   "outputs": [
    {
     "data": {
      "text/plain": [
       "real    1032\n",
       "fake    1007\n",
       "Name: news, dtype: int64"
      ]
     },
     "execution_count": 15,
     "metadata": {},
     "output_type": "execute_result"
    }
   ],
   "source": [
    "dataset['news'].value_counts()"
   ]
  },
  {
   "cell_type": "markdown",
   "id": "gentle-collaboration",
   "metadata": {},
   "source": [
    "# Define the train and test datasets"
   ]
  },
  {
   "cell_type": "code",
   "execution_count": 17,
   "id": "refined-recorder",
   "metadata": {},
   "outputs": [],
   "source": [
    "from sklearn.model_selection import train_test_split\n",
    "\n",
    "X_train, X_test, Y_train, Y_test = train_test_split(dataset[\"title\"], dataset['news'], test_size=.2, random_state=100 )"
   ]
  },
  {
   "cell_type": "code",
   "execution_count": 18,
   "id": "saving-nation",
   "metadata": {},
   "outputs": [
    {
     "data": {
      "text/plain": [
       "1631"
      ]
     },
     "execution_count": 18,
     "metadata": {},
     "output_type": "execute_result"
    }
   ],
   "source": [
    "len(X_train)"
   ]
  },
  {
   "cell_type": "code",
   "execution_count": 19,
   "id": "processed-realtor",
   "metadata": {},
   "outputs": [
    {
     "data": {
      "text/plain": [
       "408"
      ]
     },
     "execution_count": 19,
     "metadata": {},
     "output_type": "execute_result"
    }
   ],
   "source": [
    "len(X_test)"
   ]
  },
  {
   "cell_type": "markdown",
   "id": "waiting-springfield",
   "metadata": {},
   "source": [
    "# Random Forest Classifier"
   ]
  },
  {
   "cell_type": "code",
   "execution_count": 20,
   "id": "twenty-partner",
   "metadata": {},
   "outputs": [
    {
     "data": {
      "text/plain": [
       "Pipeline(steps=[('pre-processing', TextPreProcessing()), ('nlp', NlpPipeline()),\n",
       "                ('TF-IDF', TfidfVectorizer()),\n",
       "                ('Random forest classifier', RandomForestClassifier())])"
      ]
     },
     "execution_count": 20,
     "metadata": {},
     "output_type": "execute_result"
    }
   ],
   "source": [
    "from sklearn.pipeline import Pipeline\n",
    "from sklearn.feature_extraction.text import TfidfVectorizer\n",
    "from pipeline import TextPreProcessing, NlpPipeline\n",
    "from sklearn.ensemble import RandomForestClassifier\n",
    "\n",
    "random_forest_model = Pipeline([\n",
    "    ('pre-processing', TextPreProcessing()),\n",
    "    ('nlp', NlpPipeline()),\n",
    "    ('TF-IDF',TfidfVectorizer()),\n",
    "    ('Random forest classifier', RandomForestClassifier())\n",
    "])\n",
    "\n",
    "random_forest_model.fit(X_train, Y_train)"
   ]
  },
  {
   "cell_type": "code",
   "execution_count": 22,
   "id": "irish-solid",
   "metadata": {},
   "outputs": [
    {
     "name": "stdout",
     "output_type": "stream",
     "text": [
      "Train accuracy score is 0.90\n"
     ]
    }
   ],
   "source": [
    "from sklearn.metrics import accuracy_score\n",
    "\n",
    "rf_test_predictions =  random_forest_model.predict(X_test)\n",
    "print(f\"Train accuracy score is {accuracy_score(Y_test, rf_test_predictions):.2f}\")"
   ]
  },
  {
   "cell_type": "code",
   "execution_count": 23,
   "id": "desperate-trail",
   "metadata": {},
   "outputs": [
    {
     "name": "stdout",
     "output_type": "stream",
     "text": [
      "[[161  40]\n",
      " [  2 205]]\n"
     ]
    },
    {
     "data": {
      "image/png": "[encoded data removed]",
      "text/plain": [
       "<Figure size 432x288 with 2 Axes>"
      ]
     },
     "metadata": {
      "needs_background": "light"
     },
     "output_type": "display_data"
    }
   ],
   "source": [
    "from sklearn.metrics import plot_confusion_matrix\n",
    "import matplotlib.pyplot as plt\n",
    "\n",
    "conf_matrix = plot_confusion_matrix(random_forest_model, X_test, Y_test,\n",
    "                                 cmap=plt.cm.Blues)\n",
    "print(conf_matrix.confusion_matrix)\n",
    "plt.show()"
   ]
  },
  {
   "cell_type": "code",
   "execution_count": 24,
   "id": "funny-algorithm",
   "metadata": {},
   "outputs": [],
   "source": [
    "import pickle\n",
    "\n",
    "pickle.dump(random_forest_model, open('models/fakeNewsRFC.pkl', 'wb'))"
   ]
  },
  {
   "cell_type": "markdown",
   "id": "heated-current",
   "metadata": {},
   "source": [
    "# Support Vector Machine"
   ]
  },
  {
   "cell_type": "code",
   "execution_count": 25,
   "id": "humanitarian-swing",
   "metadata": {},
   "outputs": [
    {
     "data": {
      "text/plain": [
       "Pipeline(steps=[('pre-processing', TextPreProcessing()), ('nlp', NlpPipeline()),\n",
       "                ('TF-IDF', TfidfVectorizer()),\n",
       "                ('Support Vector Machine', SVC())])"
      ]
     },
     "execution_count": 25,
     "metadata": {},
     "output_type": "execute_result"
    }
   ],
   "source": [
    "from sklearn.svm import SVC\n",
    "\n",
    "SVC_model = Pipeline([\n",
    "    ('pre-processing', TextPreProcessing()),\n",
    "    ('nlp', NlpPipeline()),\n",
    "    ('TF-IDF',TfidfVectorizer()),\n",
    "    ('Support Vector Machine', SVC())\n",
    "])\n",
    "\n",
    "SVC_model.fit(X_train, Y_train)"
   ]
  },
  {
   "cell_type": "code",
   "execution_count": 26,
   "id": "controversial-africa",
   "metadata": {},
   "outputs": [
    {
     "name": "stdout",
     "output_type": "stream",
     "text": [
      "Train accuracy score is 0.96\n"
     ]
    }
   ],
   "source": [
    "SVC_test_predictions =  SVC_model.predict(X_test)\n",
    "print(f\"Train accuracy score is {accuracy_score(Y_test, SVC_test_predictions):.2f}\")"
   ]
  },
  {
   "cell_type": "code",
   "execution_count": 27,
   "id": "beautiful-emerald",
   "metadata": {},
   "outputs": [
    {
     "data": {
      "image/png": "[encoded data removed]",
      "text/plain": [
       "<Figure size 432x288 with 2 Axes>"
      ]
     },
     "metadata": {
      "needs_background": "light"
     },
     "output_type": "display_data"
    }
   ],
   "source": [
    "conf_matrix = plot_confusion_matrix(SVC_model, X_test, Y_test,\n",
    "                                 cmap=plt.cm.Blues)\n",
    "plt.show()"
   ]
  },
  {
   "cell_type": "code",
   "execution_count": 28,
   "id": "soviet-hello",
   "metadata": {},
   "outputs": [],
   "source": [
    "import pickle\n",
    "\n",
    "pickle.dump(SVC_model, open('models/fakeNewsSVC.pkl', 'wb'))"
   ]
  },
  {
   "cell_type": "markdown",
   "id": "impossible-bowling",
   "metadata": {},
   "source": [
    "# Logistic Regression"
   ]
  },
  {
   "cell_type": "code",
   "execution_count": 29,
   "id": "unauthorized-think",
   "metadata": {},
   "outputs": [
    {
     "data": {
      "text/plain": [
       "Pipeline(steps=[('pre-processing', TextPreProcessing()), ('nlp', NlpPipeline()),\n",
       "                ('TF-IDF', TfidfVectorizer()),\n",
       "                ('Logistic Regression', LogisticRegression())])"
      ]
     },
     "execution_count": 29,
     "metadata": {},
     "output_type": "execute_result"
    }
   ],
   "source": [
    "from sklearn.linear_model import LogisticRegression\n",
    "\n",
    "logistic_regression_model = Pipeline([\n",
    "    ('pre-processing', TextPreProcessing()),\n",
    "    ('nlp', NlpPipeline()),\n",
    "    ('TF-IDF',TfidfVectorizer()),\n",
    "    ('Logistic Regression', LogisticRegression())\n",
    "])\n",
    "\n",
    "logistic_regression_model.fit(X_train, Y_train)"
   ]
  },
  {
   "cell_type": "code",
   "execution_count": 30,
   "id": "bright-leader",
   "metadata": {},
   "outputs": [
    {
     "name": "stdout",
     "output_type": "stream",
     "text": [
      "Train accuracy score is 0.96\n"
     ]
    }
   ],
   "source": [
    "LR_test_predictions =  logistic_regression_model.predict(X_test)\n",
    "print(f\"Train accuracy score is {accuracy_score(Y_test, LR_test_predictions):.2f}\")"
   ]
  },
  {
   "cell_type": "code",
   "execution_count": 31,
   "id": "continued-divide",
   "metadata": {},
   "outputs": [
    {
     "data": {
      "image/png": "[encoded data removed]",
      "text/plain": [
       "<Figure size 432x288 with 2 Axes>"
      ]
     },
     "metadata": {
      "needs_background": "light"
     },
     "output_type": "display_data"
    }
   ],
   "source": [
    "conf_matrix = plot_confusion_matrix(logistic_regression_model, X_test, Y_test,\n",
    "                                 cmap=plt.cm.Blues)\n",
    "plt.show()"
   ]
  },
  {
   "cell_type": "code",
   "execution_count": 32,
   "id": "korean-worst",
   "metadata": {},
   "outputs": [],
   "source": [
    "import pickle\n",
    "\n",
    "pickle.dump(logistic_regression_model, open('models/fakeNewsLR.pkl', 'wb'))"
   ]
  },
  {
   "cell_type": "code",
   "execution_count": null,
   "id": "improved-snake",
   "metadata": {},
   "outputs": [],
   "source": []
  }
 ],
 "metadata": {
  "kernelspec": {
   "display_name": "Python 3",
   "language": "python",
   "name": "python3"
  },
  "language_info": {
   "codemirror_mode": {
    "name": "ipython",
    "version": 3
   },
   "file_extension": ".py",
   "mimetype": "text/x-python",
   "name": "python",
   "nbconvert_exporter": "python",
   "pygments_lexer": "ipython3",
   "version": "3.8.5"
  }
 },
 "nbformat": 4,
 "nbformat_minor": 5
}
